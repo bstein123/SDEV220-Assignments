{
 "cells": [
  {
   "cell_type": "code",
   "execution_count": 3,
   "id": "cc681fed",
   "metadata": {},
   "outputs": [
    {
     "name": "stdout",
     "output_type": "stream",
     "text": [
      "seconds_in_an_hour:  3600\n"
     ]
    }
   ],
   "source": [
    "#3.1 How many seconds are in an hour? Use the interactive interpreter as a calculator and multiple the number of seconds\n",
    "#in a minute (60) by the number of minutes in an hour (60).\n",
    "seconds_in_a_minute = 60\n",
    "minutes_in_an_hour = 60\n",
    "seconds_in_an_hour = seconds_in_a_minute * minutes_in_an_hour\n",
    "print(\"seconds_in_an_hour: \", seconds_in_an_hour)"
   ]
  },
  {
   "cell_type": "code",
   "execution_count": 4,
   "id": "0b096a85",
   "metadata": {},
   "outputs": [
    {
     "name": "stdout",
     "output_type": "stream",
     "text": [
      "Seconds per hour stored in a variable:  3600\n"
     ]
    }
   ],
   "source": [
    "#3.2 Assign the result from the previous task (seconds in an hour) to a variable called seconds_per_hour\n",
    "seconds_per_hour = seconds_in_an_hour\n",
    "print(\"Seconds per hour stored in a variable: \", seconds_per_hour)"
   ]
  },
  {
   "cell_type": "code",
   "execution_count": 5,
   "id": "4f0edeb9",
   "metadata": {},
   "outputs": [
    {
     "name": "stdout",
     "output_type": "stream",
     "text": [
      "Seconds in a day:  86400\n"
     ]
    }
   ],
   "source": [
    "#3.3 How many seconds are in a day? Use your seconds_per_hour variable\n",
    "hours_in_a_day = 24\n",
    "seconds_in_a_day = seconds_per_hour * hours_in_a_day\n",
    "print(\"Seconds in a day: \", seconds_in_a_day)"
   ]
  },
  {
   "cell_type": "code",
   "execution_count": 7,
   "id": "79f6c403",
   "metadata": {},
   "outputs": [
    {
     "name": "stdout",
     "output_type": "stream",
     "text": [
      "Seconds per day:  86400\n"
     ]
    }
   ],
   "source": [
    "#3.4 Calculate seconds per day again, but this time save the result in a variable called seconds_per_day\n",
    "hours_in_a_day = 24\n",
    "seconds_per_day = seconds_per_hour * hours_in_a_day\n",
    "print(\"Seconds per day: \", seconds_per_day)"
   ]
  },
  {
   "cell_type": "code",
   "execution_count": 9,
   "id": "5b6abe87",
   "metadata": {},
   "outputs": [
    {
     "name": "stdout",
     "output_type": "stream",
     "text": [
      "Floating-point division:  24.0\n"
     ]
    }
   ],
   "source": [
    "#3.5 Divide seconds_per_day by seconds_per_hour. Use floating-point(/) division.\n",
    "floating_point_division = seconds_per_day / seconds_per_hour\n",
    "print(\"Floating-point division: \", floating_point_division)"
   ]
  },
  {
   "cell_type": "code",
   "execution_count": 11,
   "id": "76847de0",
   "metadata": {},
   "outputs": [
    {
     "name": "stdout",
     "output_type": "stream",
     "text": [
      "integer division:  24\n"
     ]
    }
   ],
   "source": [
    "#3.6 Divide seconds_per_day by seconds_per_hour, using integer(//) division. Did this number agree with the floating-\n",
    "#point value from the previous question, aside from the final .0?\n",
    "integer_division = seconds_per_day // seconds_per_hour\n",
    "print(\"integer division: \", integer_division)\n",
    "#The two numbers are the same aside from the .0"
   ]
  },
  {
   "cell_type": "code",
   "execution_count": null,
   "id": "b9a91828",
   "metadata": {},
   "outputs": [],
   "source": []
  }
 ],
 "metadata": {
  "kernelspec": {
   "display_name": "Python 3 (ipykernel)",
   "language": "python",
   "name": "python3"
  },
  "language_info": {
   "codemirror_mode": {
    "name": "ipython",
    "version": 3
   },
   "file_extension": ".py",
   "mimetype": "text/x-python",
   "name": "python",
   "nbconvert_exporter": "python",
   "pygments_lexer": "ipython3",
   "version": "3.10.9"
  }
 },
 "nbformat": 4,
 "nbformat_minor": 5
}
