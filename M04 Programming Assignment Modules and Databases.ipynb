{
 "cells": [
  {
   "cell_type": "code",
   "execution_count": 1,
   "id": "006b89c1",
   "metadata": {},
   "outputs": [
    {
     "name": "stdout",
     "output_type": "stream",
     "text": [
      "Open 9-5 daily\n"
     ]
    }
   ],
   "source": [
    "# 11.1\n",
    "import zoo\n",
    "zoo.hours()"
   ]
  },
  {
   "cell_type": "code",
   "execution_count": 3,
   "id": "14cbbb7f",
   "metadata": {},
   "outputs": [
    {
     "name": "stdout",
     "output_type": "stream",
     "text": [
      "Open 9-5 daily\n"
     ]
    }
   ],
   "source": [
    "# 11.2\n",
    "import zoo as menagerie\n",
    "menagerie.hours()"
   ]
  },
  {
   "cell_type": "code",
   "execution_count": 16,
   "id": "fcb8465b",
   "metadata": {},
   "outputs": [
    {
     "name": "stdout",
     "output_type": "stream",
     "text": [
      "{'author': 'J R R Tolkien', 'book': 'The Hobbit'}\n",
      "{'author': 'Lynne Truss', 'book': 'Eats, Shoots & Leaves'}\n"
     ]
    }
   ],
   "source": [
    "# 16.2\n",
    "import csv\n",
    "with open('books.csv', 'r') as file:\n",
    "    books = list(csv.DictReader(file))\n",
    "    \n",
    "for book in books:\n",
    "    print(book)\n",
    "    \n",
    "# yes it handled the quotes and commas properly."
   ]
  },
  {
   "cell_type": "code",
   "execution_count": 26,
   "id": "d737f899",
   "metadata": {},
   "outputs": [
    {
     "name": "stdout",
     "output_type": "stream",
     "text": [
      "Database 'books.db' and table 'books' created successfully\n"
     ]
    }
   ],
   "source": [
    "# 16.4\n",
    "import sqlite3\n",
    "connection = sqlite3.connect('books.db')\n",
    "cursor = connection.cursor()\n",
    "cursor.execute('''\n",
    "    create table if not exists books(\n",
    "        title text,\n",
    "        author text,\n",
    "        year integer\n",
    "    )\n",
    "''')\n",
    "connection.commit()\n",
    "connection.close()\n",
    "print(\"Database 'books.db' and table 'books' created successfully\")"
   ]
  }
 ],
 "metadata": {
  "kernelspec": {
   "display_name": "Python 3 (ipykernel)",
   "language": "python",
   "name": "python3"
  },
  "language_info": {
   "codemirror_mode": {
    "name": "ipython",
    "version": 3
   },
   "file_extension": ".py",
   "mimetype": "text/x-python",
   "name": "python",
   "nbconvert_exporter": "python",
   "pygments_lexer": "ipython3",
   "version": "3.10.9"
  }
 },
 "nbformat": 4,
 "nbformat_minor": 5
}
