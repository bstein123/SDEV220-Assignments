{
 "cells": [
  {
   "cell_type": "code",
   "execution_count": 7,
   "id": "b7b0f6fa",
   "metadata": {},
   "outputs": [
    {
     "name": "stdout",
     "output_type": "stream",
     "text": [
      "[0, 0, 1, 1, 1, 2, 2]\n"
     ]
    }
   ],
   "source": [
    "class Solution:\n",
    "    def sort012(self, arr):\n",
    "        count_0 = arr.count(0)\n",
    "        count_1 = arr.count(1)\n",
    "        count_2 = arr.count(2)\n",
    "        \n",
    "        arr[:] = [0] * count_0 + [1] * count_1 + [2] * count_2\n",
    "        return arr\n",
    "\n",
    "solution = Solution()\n",
    "\n",
    "arr = [0, 1, 2, 1, 0, 1, 2]\n",
    "sorted_arr = solution.sort012(arr)\n",
    "print(sorted_arr)"
   ]
  },
  {
   "cell_type": "code",
   "execution_count": 11,
   "id": "f12b317a",
   "metadata": {},
   "outputs": [
    {
     "name": "stdout",
     "output_type": "stream",
     "text": [
      "3\n"
     ]
    }
   ],
   "source": [
    "class Solution:\n",
    "    def binarysearch(self, arr, k):\n",
    "        low, high = 0, len(arr) - 1\n",
    "        \n",
    "        while low <= high:\n",
    "            mid = (low + high) // 2\n",
    "            if arr[mid] == k:\n",
    "                return mid\n",
    "            elif arr[mid] < k:\n",
    "                low = mid + 1\n",
    "            else:\n",
    "                high = mid - 1\n",
    "        return -1\n",
    "\n",
    "solution = Solution()\n",
    "\n",
    "arr = [1, 2, 3, 4, 5]\n",
    "k = 4\n",
    "result = solution.binarysearch(arr, k)\n",
    "print(result)"
   ]
  },
  {
   "cell_type": "code",
   "execution_count": null,
   "id": "c34c5a4a",
   "metadata": {},
   "outputs": [],
   "source": []
  }
 ],
 "metadata": {
  "kernelspec": {
   "display_name": "Python 3 (ipykernel)",
   "language": "python",
   "name": "python3"
  },
  "language_info": {
   "codemirror_mode": {
    "name": "ipython",
    "version": 3
   },
   "file_extension": ".py",
   "mimetype": "text/x-python",
   "name": "python",
   "nbconvert_exporter": "python",
   "pygments_lexer": "ipython3",
   "version": "3.10.9"
  }
 },
 "nbformat": 4,
 "nbformat_minor": 5
}
